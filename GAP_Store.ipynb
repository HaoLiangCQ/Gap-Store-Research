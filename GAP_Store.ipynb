{
 "cells": [
  {
   "cell_type": "code",
   "execution_count": 17,
   "id": "71ae8c36",
   "metadata": {},
   "outputs": [
    {
     "name": "stdout",
     "output_type": "stream",
     "text": [
      "Data for zipcode 94123: {'success': 'true', 'zip': 94123, 'houseHoldMedianIncome': 194098, 'houseHoldMeanIncome': 270739, 'familyMedianIncome': 250000, 'familyMeanIncome': 381628, 'numHouseholds': 12992, 'nonFamilyHouseholdMedianIncome': 163197, 'nonFamilyHouseholdMeanIncome': 204845, 'familyPercentPoverty': 4.31}\n"
     ]
    },
    {
     "name": "stderr",
     "output_type": "stream",
     "text": [
      "/var/folders/zt/hhvgl9sd4cn1zccq7pn35wxc0000gn/T/ipykernel_48166/433083439.py:47: FutureWarning: The frame.append method is deprecated and will be removed from pandas in a future version. Use pandas.concat instead.\n",
      "  df_agg = df_agg.append({\n"
     ]
    },
    {
     "name": "stdout",
     "output_type": "stream",
     "text": [
      "Failed to parse API response for zipcode 94147\n",
      "Data for zipcode 94109: {'success': 'true', 'zip': 94109, 'houseHoldMedianIncome': 104476, 'houseHoldMeanIncome': 155919, 'familyMedianIncome': 157772, 'familyMeanIncome': 208266, 'numHouseholds': 32183, 'nonFamilyHouseholdMedianIncome': 84187, 'nonFamilyHouseholdMeanIncome': 134211, 'familyPercentPoverty': 11.57}\n"
     ]
    },
    {
     "name": "stderr",
     "output_type": "stream",
     "text": [
      "/var/folders/zt/hhvgl9sd4cn1zccq7pn35wxc0000gn/T/ipykernel_48166/433083439.py:47: FutureWarning: The frame.append method is deprecated and will be removed from pandas in a future version. Use pandas.concat instead.\n",
      "  df_agg = df_agg.append({\n"
     ]
    },
    {
     "name": "stdout",
     "output_type": "stream",
     "text": [
      "Failed to parse API response for zipcode 94164\n",
      "Data for zipcode 94102: {'success': 'true', 'zip': 94102, 'houseHoldMedianIncome': 55888, 'houseHoldMeanIncome': 104087, 'familyMedianIncome': 78286, 'familyMeanIncome': 136506, 'numHouseholds': 19213, 'nonFamilyHouseholdMedianIncome': 44848, 'nonFamilyHouseholdMeanIncome': 91204, 'familyPercentPoverty': 18.99}\n"
     ]
    },
    {
     "name": "stderr",
     "output_type": "stream",
     "text": [
      "/var/folders/zt/hhvgl9sd4cn1zccq7pn35wxc0000gn/T/ipykernel_48166/433083439.py:47: FutureWarning: The frame.append method is deprecated and will be removed from pandas in a future version. Use pandas.concat instead.\n",
      "  df_agg = df_agg.append({\n"
     ]
    },
    {
     "name": "stdout",
     "output_type": "stream",
     "text": [
      "Data for zipcode 94115: {'success': 'true', 'zip': 94115, 'houseHoldMedianIncome': 138023, 'houseHoldMeanIncome': 194439, 'familyMedianIncome': 184917, 'familyMeanIncome': 281481, 'numHouseholds': 17009, 'nonFamilyHouseholdMedianIncome': 117586, 'nonFamilyHouseholdMeanIncome': 150207, 'familyPercentPoverty': 11.79}\n"
     ]
    },
    {
     "name": "stderr",
     "output_type": "stream",
     "text": [
      "/var/folders/zt/hhvgl9sd4cn1zccq7pn35wxc0000gn/T/ipykernel_48166/433083439.py:47: FutureWarning: The frame.append method is deprecated and will be removed from pandas in a future version. Use pandas.concat instead.\n",
      "  df_agg = df_agg.append({\n"
     ]
    },
    {
     "name": "stdout",
     "output_type": "stream",
     "text": [
      "Data for zipcode 94118: {'success': 'true', 'zip': 94118, 'houseHoldMedianIncome': 139043, 'houseHoldMeanIncome': 202892, 'familyMedianIncome': 194492, 'familyMeanIncome': 272982, 'numHouseholds': 17485, 'nonFamilyHouseholdMedianIncome': 101780, 'nonFamilyHouseholdMeanIncome': 127786, 'familyPercentPoverty': 5.34}\n"
     ]
    },
    {
     "name": "stderr",
     "output_type": "stream",
     "text": [
      "/var/folders/zt/hhvgl9sd4cn1zccq7pn35wxc0000gn/T/ipykernel_48166/433083439.py:47: FutureWarning: The frame.append method is deprecated and will be removed from pandas in a future version. Use pandas.concat instead.\n",
      "  df_agg = df_agg.append({\n"
     ]
    },
    {
     "name": "stdout",
     "output_type": "stream",
     "text": [
      "Failed to parse API response for zipcode 94119\n",
      "Data for zipcode 94133: {'success': 'true', 'zip': 94133, 'houseHoldMedianIncome': 71063, 'houseHoldMeanIncome': 139732, 'familyMedianIncome': 82740, 'familyMeanIncome': 165249, 'numHouseholds': 13151, 'nonFamilyHouseholdMedianIncome': 54905, 'nonFamilyHouseholdMeanIncome': 118431, 'familyPercentPoverty': 28.98}\n"
     ]
    },
    {
     "name": "stderr",
     "output_type": "stream",
     "text": [
      "/var/folders/zt/hhvgl9sd4cn1zccq7pn35wxc0000gn/T/ipykernel_48166/433083439.py:47: FutureWarning: The frame.append method is deprecated and will be removed from pandas in a future version. Use pandas.concat instead.\n",
      "  df_agg = df_agg.append({\n"
     ]
    },
    {
     "name": "stdout",
     "output_type": "stream",
     "text": [
      "Failed to parse API response for zipcode 94142\n",
      "Failed to parse API response for zipcode 94144\n",
      "Failed to parse API response for zipcode 94159\n",
      "Failed to parse API response for zipcode 94199\n",
      "Failed to parse API response for zipcode 94101\n",
      "Data for zipcode 94103: {'success': 'true', 'zip': 94103, 'houseHoldMedianIncome': 93143, 'houseHoldMeanIncome': 138631, 'familyMedianIncome': 115841, 'familyMeanIncome': 161078, 'numHouseholds': 16373, 'nonFamilyHouseholdMedianIncome': 77076, 'nonFamilyHouseholdMeanIncome': 124765, 'familyPercentPoverty': 17.38}\n"
     ]
    },
    {
     "name": "stderr",
     "output_type": "stream",
     "text": [
      "/var/folders/zt/hhvgl9sd4cn1zccq7pn35wxc0000gn/T/ipykernel_48166/433083439.py:47: FutureWarning: The frame.append method is deprecated and will be removed from pandas in a future version. Use pandas.concat instead.\n",
      "  df_agg = df_agg.append({\n"
     ]
    },
    {
     "name": "stdout",
     "output_type": "stream",
     "text": [
      "Data for zipcode 94104: {'success': 'true', 'zip': 94104, 'houseHoldMedianIncome': 42591, 'houseHoldMeanIncome': 121455, 'familyMedianIncome': 44550, 'familyMeanIncome': 163665, 'numHouseholds': 234, 'nonFamilyHouseholdMedianIncome': 22614, 'nonFamilyHouseholdMeanIncome': 82035, 'familyPercentPoverty': 31.9}\n"
     ]
    },
    {
     "name": "stderr",
     "output_type": "stream",
     "text": [
      "/var/folders/zt/hhvgl9sd4cn1zccq7pn35wxc0000gn/T/ipykernel_48166/433083439.py:47: FutureWarning: The frame.append method is deprecated and will be removed from pandas in a future version. Use pandas.concat instead.\n",
      "  df_agg = df_agg.append({\n"
     ]
    },
    {
     "name": "stdout",
     "output_type": "stream",
     "text": [
      "Data for zipcode 94108: {'success': 'true', 'zip': 94108, 'houseHoldMedianIncome': 65392, 'houseHoldMeanIncome': 106597, 'familyMedianIncome': 52643, 'familyMeanIncome': 114736, 'numHouseholds': 6583, 'nonFamilyHouseholdMedianIncome': 73036, 'nonFamilyHouseholdMeanIncome': 101997, 'familyPercentPoverty': 29.97}\n"
     ]
    },
    {
     "name": "stderr",
     "output_type": "stream",
     "text": [
      "/var/folders/zt/hhvgl9sd4cn1zccq7pn35wxc0000gn/T/ipykernel_48166/433083439.py:47: FutureWarning: The frame.append method is deprecated and will be removed from pandas in a future version. Use pandas.concat instead.\n",
      "  df_agg = df_agg.append({\n"
     ]
    },
    {
     "name": "stdout",
     "output_type": "stream",
     "text": [
      "Data for zipcode 94111: {'success': 'true', 'zip': 94111, 'houseHoldMedianIncome': 135735, 'houseHoldMeanIncome': 187282, 'familyMedianIncome': 153250, 'familyMeanIncome': 180992, 'numHouseholds': 2368, 'nonFamilyHouseholdMedianIncome': 132188, 'nonFamilyHouseholdMeanIncome': 193090, 'familyPercentPoverty': 24.11}\n"
     ]
    },
    {
     "name": "stderr",
     "output_type": "stream",
     "text": [
      "/var/folders/zt/hhvgl9sd4cn1zccq7pn35wxc0000gn/T/ipykernel_48166/433083439.py:47: FutureWarning: The frame.append method is deprecated and will be removed from pandas in a future version. Use pandas.concat instead.\n",
      "  df_agg = df_agg.append({\n"
     ]
    },
    {
     "name": "stdout",
     "output_type": "stream",
     "text": [
      "Failed to parse API response for zipcode 94120\n",
      "Data for zipcode 94129: {'success': 'true', 'zip': 94129, 'houseHoldMedianIncome': 218717, 'houseHoldMeanIncome': 231356, 'familyMedianIncome': 241842, 'familyMeanIncome': 255313, 'numHouseholds': 1340, 'nonFamilyHouseholdMedianIncome': 195270, 'nonFamilyHouseholdMeanIncome': 191706, 'familyPercentPoverty': 1.33}\n"
     ]
    },
    {
     "name": "stderr",
     "output_type": "stream",
     "text": [
      "/var/folders/zt/hhvgl9sd4cn1zccq7pn35wxc0000gn/T/ipykernel_48166/433083439.py:47: FutureWarning: The frame.append method is deprecated and will be removed from pandas in a future version. Use pandas.concat instead.\n",
      "  df_agg = df_agg.append({\n"
     ]
    },
    {
     "name": "stdout",
     "output_type": "stream",
     "text": [
      "Failed to parse API response for zipcode 94137\n",
      "Failed to parse API response for zipcode 94138\n",
      "Failed to parse API response for zipcode 94139\n",
      "Failed to parse API response for zipcode 94145\n",
      "Failed to parse API response for zipcode 94153\n",
      "Failed to parse API response for zipcode 94154\n",
      "Failed to parse API response for zipcode 94156\n",
      "Failed to parse API response for zipcode 94161\n",
      "Failed to parse API response for zipcode 94162\n",
      "Failed to parse API response for zipcode 94163\n",
      "Failed to parse API response for zipcode 94171\n"
     ]
    }
   ],
   "source": [
    "import pandas as pd\n",
    "import http.client\n",
    "import json\n",
    "import time\n",
    "import folium\n",
    "import branca\n",
    "from folium import LayerControl\n",
    "from branca.colormap import LinearColormap\n",
    "\n",
    "API_KEY = \"\"\n",
    "RAPID_API_KEY = \"\"\n",
    "\n",
    "def fetch_income_data(zipcode):\n",
    "    conn = http.client.HTTPSConnection(\"us-zip-code-to-income.p.rapidapi.com\")\n",
    "    headers = {\n",
    "        'X-RapidAPI-Key': RAPID_API_KEY,\n",
    "        'X-RapidAPI-Host': \"us-zip-code-to-income.p.rapidapi.com\"\n",
    "    }\n",
    "    conn.request(\"GET\", f\"/?zip={zipcode}\", headers=headers)\n",
    "    res = conn.getresponse()\n",
    "    data = res.read()\n",
    "\n",
    "    try:\n",
    "        decoded_data = json.loads(data.decode(\"utf-8\"))\n",
    "        print(f\"Data for zipcode {zipcode}: {decoded_data}\")\n",
    "        \n",
    "        if \"success\" in decoded_data:\n",
    "            if decoded_data[\"success\"] == \"true\":\n",
    "                return decoded_data\n",
    "            elif decoded_data[\"success\"] == \"false\":\n",
    "                print(f\"No data for zipcode {zipcode}\")\n",
    "                return None\n",
    "        else:\n",
    "            return None\n",
    "    except json.JSONDecodeError:\n",
    "        print(f\"Failed to parse API response for zipcode {zipcode}\")\n",
    "        return None\n",
    "\n",
    "\n",
    "zipcodes = ['94123', '94147', '94109', '94164', '94102', '94115', '94118', '94119', '94133', '94142', '94144', '94159', '94199', '94101', '94103', '94104', '94108', '94111', '94120', '94129', '94137', '94138', '94139', '94145', '94153', '94154', '94156', '94161', '94162', '94163', '94171']\n",
    "\n",
    "df_agg = pd.DataFrame()\n",
    "\n",
    "for zipcode in zipcodes:\n",
    "    income_data = fetch_income_data(zipcode)\n",
    "    if income_data is not None:\n",
    "        df_agg = df_agg.append({\n",
    "            'zipcode': zipcode,\n",
    "            'A02650': income_data[\"houseHoldMedianIncome\"],\n",
    "            'N1': income_data[\"numHouseholds\"],\n",
    "        }, ignore_index=True)\n",
    "    time.sleep(2)  # pause for 2 second\n",
    "\n",
    "df_agg['average_income'] = df_agg['A02650']\n",
    "df_agg['zipcode'] = df_agg['zipcode'].astype(str)\n",
    "\n",
    "radius_1 = ['94123', '94147']\n",
    "radius_2 = ['94109', '94164']\n",
    "radius_3 = ['94102', '94115', '94118', '94119', '94133', '94142', '94144', '94159', '94199']\n",
    "radius_4 = ['94101', '94103', '94104', '94108', '94111', '94120', '94129', '94137', '94138', '94139', '94145', '94153', '94154', '94156', '94161', '94162', '94163', '94171']\n",
    "\n",
    "def assign_radius(zipcode):\n",
    "    if zipcode in radius_1:\n",
    "        return 0.5\n",
    "    elif zipcode in radius_2:\n",
    "        return 1\n",
    "    elif zipcode in radius_3:\n",
    "        return 1.5\n",
    "    elif zipcode in radius_4:\n",
    "        return 2\n",
    "    else:\n",
    "        return None\n",
    "\n",
    "df_agg['radius'] = df_agg['zipcode'].apply(assign_radius)\n",
    "\n",
    "average_incomes = df_agg.groupby('radius')['average_income'].mean()"
   ]
  },
  {
   "cell_type": "code",
   "execution_count": 28,
   "id": "df61ff22",
   "metadata": {},
   "outputs": [],
   "source": [
    "def get_geocode(zipcode, api_key):\n",
    "    response = requests.get(f'https://api.geocod.io/v1.6/geocode?postal_code={zipcode}&api_key={api_key}')\n",
    "    data = response.json()\n",
    "    return data['results'][0]['location']['lat'], data['results'][0]['location']['lng']\n",
    "\n",
    "center_lat, center_lon = get_geocode(\"94123\", API_KEY)\n",
    "\n",
    "map_ = folium.Map(location=[center_lat, center_lon], zoom_start=12)\n",
    "\n",
    "def get_income_level(income):\n",
    "    if income < 102000:\n",
    "        return 'yellow'  \n",
    "    elif income < 105000:\n",
    "        return 'green'\n",
    "    elif income < 150000:\n",
    "        return 'blue'\n",
    "    else:\n",
    "        return 'red' \n",
    "\n",
    "for radius in sorted(average_incomes.index, reverse=True):\n",
    "    feature_group = folium.FeatureGroup(name=f'Radius: {radius} miles')\n",
    "    color = get_income_level(average_incomes[radius])\n",
    "    folium.Circle(\n",
    "        location=[center_lat, center_lon],\n",
    "        radius=radius*1609.34,  # convert miles to meters\n",
    "        popup=f'Average income: ${average_incomes[radius]:.2f}',\n",
    "        color=color,\n",
    "        fill=True,\n",
    "        fill_color=color,\n",
    "        fill_opacity=0.8,  # increased fill_opacity\n",
    "        tooltip=f'Average income within {radius} mile radius: ${average_incomes[radius]:.0f}'\n",
    "    ).add_to(feature_group)\n",
    "    feature_group.add_to(map_)\n",
    "\n",
    "colorscale = LinearColormap(colors=['green', 'blue', 'yellow', 'red'], index=[200000, 250000, 350000, max(average_incomes)], caption='Average Income Levels')\n",
    "colorscale.add_to(map_)\n",
    "\n",
    "LayerControl().add_to(map_)\n",
    "\n",
    "legend_html = \"\"\"\n",
    "<div style=\"position: fixed; bottom: 50px; left: 50px; width: 200px; height: 120px; background-color: white; border:2px solid grey; z-index:9999; font-size:14px;\">\n",
    "<p><span style=\"background-color:yellow\">&nbsp;&nbsp;&nbsp;&nbsp;</span>&nbsp;income < 102,000</p>\n",
    "<p><span style=\"background-color:green\">&nbsp;&nbsp;&nbsp;&nbsp;</span>&nbsp;income < 105,000</p>\n",
    "<p><span style=\"background-color:blue\">&nbsp;&nbsp;&nbsp;&nbsp;</span>&nbsp;income < 150,000</p>\n",
    "<p><span style=\"background-color:red\">&nbsp;&nbsp;&nbsp;&nbsp;</span>&nbsp;income > 150,000</p>\n",
    "</div>\n",
    "\"\"\" \n",
    "\n",
    "legend = folium.Element(legend_html)\n",
    "map_.get_root().html.add_child(legend)\n",
    "\n",
    "map_.save(\"income_map.html\")"
   ]
  },
  {
   "cell_type": "code",
   "execution_count": 18,
   "id": "f4f694b2",
   "metadata": {},
   "outputs": [
    {
     "data": {
      "text/html": [
       "<div>\n",
       "<style scoped>\n",
       "    .dataframe tbody tr th:only-of-type {\n",
       "        vertical-align: middle;\n",
       "    }\n",
       "\n",
       "    .dataframe tbody tr th {\n",
       "        vertical-align: top;\n",
       "    }\n",
       "\n",
       "    .dataframe thead th {\n",
       "        text-align: right;\n",
       "    }\n",
       "</style>\n",
       "<table border=\"1\" class=\"dataframe\">\n",
       "  <thead>\n",
       "    <tr style=\"text-align: right;\">\n",
       "      <th></th>\n",
       "      <th>zipcode</th>\n",
       "      <th>A02650</th>\n",
       "      <th>N1</th>\n",
       "      <th>average_income</th>\n",
       "      <th>radius</th>\n",
       "    </tr>\n",
       "  </thead>\n",
       "  <tbody>\n",
       "    <tr>\n",
       "      <th>0</th>\n",
       "      <td>94123</td>\n",
       "      <td>194098</td>\n",
       "      <td>12992</td>\n",
       "      <td>194098</td>\n",
       "      <td>0.5</td>\n",
       "    </tr>\n",
       "    <tr>\n",
       "      <th>1</th>\n",
       "      <td>94109</td>\n",
       "      <td>104476</td>\n",
       "      <td>32183</td>\n",
       "      <td>104476</td>\n",
       "      <td>1.0</td>\n",
       "    </tr>\n",
       "    <tr>\n",
       "      <th>2</th>\n",
       "      <td>94102</td>\n",
       "      <td>55888</td>\n",
       "      <td>19213</td>\n",
       "      <td>55888</td>\n",
       "      <td>1.5</td>\n",
       "    </tr>\n",
       "    <tr>\n",
       "      <th>3</th>\n",
       "      <td>94115</td>\n",
       "      <td>138023</td>\n",
       "      <td>17009</td>\n",
       "      <td>138023</td>\n",
       "      <td>1.5</td>\n",
       "    </tr>\n",
       "    <tr>\n",
       "      <th>4</th>\n",
       "      <td>94118</td>\n",
       "      <td>139043</td>\n",
       "      <td>17485</td>\n",
       "      <td>139043</td>\n",
       "      <td>1.5</td>\n",
       "    </tr>\n",
       "    <tr>\n",
       "      <th>5</th>\n",
       "      <td>94133</td>\n",
       "      <td>71063</td>\n",
       "      <td>13151</td>\n",
       "      <td>71063</td>\n",
       "      <td>1.5</td>\n",
       "    </tr>\n",
       "    <tr>\n",
       "      <th>6</th>\n",
       "      <td>94103</td>\n",
       "      <td>93143</td>\n",
       "      <td>16373</td>\n",
       "      <td>93143</td>\n",
       "      <td>2.0</td>\n",
       "    </tr>\n",
       "    <tr>\n",
       "      <th>7</th>\n",
       "      <td>94104</td>\n",
       "      <td>42591</td>\n",
       "      <td>234</td>\n",
       "      <td>42591</td>\n",
       "      <td>2.0</td>\n",
       "    </tr>\n",
       "    <tr>\n",
       "      <th>8</th>\n",
       "      <td>94108</td>\n",
       "      <td>65392</td>\n",
       "      <td>6583</td>\n",
       "      <td>65392</td>\n",
       "      <td>2.0</td>\n",
       "    </tr>\n",
       "    <tr>\n",
       "      <th>9</th>\n",
       "      <td>94111</td>\n",
       "      <td>135735</td>\n",
       "      <td>2368</td>\n",
       "      <td>135735</td>\n",
       "      <td>2.0</td>\n",
       "    </tr>\n",
       "    <tr>\n",
       "      <th>10</th>\n",
       "      <td>94129</td>\n",
       "      <td>218717</td>\n",
       "      <td>1340</td>\n",
       "      <td>218717</td>\n",
       "      <td>2.0</td>\n",
       "    </tr>\n",
       "  </tbody>\n",
       "</table>\n",
       "</div>"
      ],
      "text/plain": [
       "   zipcode  A02650     N1  average_income  radius\n",
       "0    94123  194098  12992          194098     0.5\n",
       "1    94109  104476  32183          104476     1.0\n",
       "2    94102   55888  19213           55888     1.5\n",
       "3    94115  138023  17009          138023     1.5\n",
       "4    94118  139043  17485          139043     1.5\n",
       "5    94133   71063  13151           71063     1.5\n",
       "6    94103   93143  16373           93143     2.0\n",
       "7    94104   42591    234           42591     2.0\n",
       "8    94108   65392   6583           65392     2.0\n",
       "9    94111  135735   2368          135735     2.0\n",
       "10   94129  218717   1340          218717     2.0"
      ]
     },
     "execution_count": 18,
     "metadata": {},
     "output_type": "execute_result"
    }
   ],
   "source": [
    "df_agg"
   ]
  },
  {
   "cell_type": "code",
   "execution_count": null,
   "id": "ecba1138",
   "metadata": {},
   "outputs": [],
   "source": []
  }
 ],
 "metadata": {
  "kernelspec": {
   "display_name": "Python 3 (ipykernel)",
   "language": "python",
   "name": "python3"
  },
  "language_info": {
   "codemirror_mode": {
    "name": "ipython",
    "version": 3
   },
   "file_extension": ".py",
   "mimetype": "text/x-python",
   "name": "python",
   "nbconvert_exporter": "python",
   "pygments_lexer": "ipython3",
   "version": "3.9.13"
  }
 },
 "nbformat": 4,
 "nbformat_minor": 5
}
